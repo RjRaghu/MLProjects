{
 "cells": [
  {
   "cell_type": "code",
   "execution_count": 28,
   "metadata": {},
   "outputs": [],
   "source": [
    "import tensorflow as tf"
   ]
  },
  {
   "cell_type": "code",
   "execution_count": 29,
   "metadata": {},
   "outputs": [
    {
     "name": "stdout",
     "output_type": "stream",
     "text": [
      "2.12.0\n"
     ]
    }
   ],
   "source": [
    "print(tf.__version__)"
   ]
  },
  {
   "cell_type": "code",
   "execution_count": 30,
   "metadata": {},
   "outputs": [],
   "source": [
    "import numpy as np \n",
    "import matplotlib.pyplot as plt\n",
    "import pandas as pd\n"
   ]
  },
  {
   "cell_type": "code",
   "execution_count": 31,
   "metadata": {},
   "outputs": [
    {
     "data": {
      "text/html": [
       "<div>\n",
       "<style scoped>\n",
       "    .dataframe tbody tr th:only-of-type {\n",
       "        vertical-align: middle;\n",
       "    }\n",
       "\n",
       "    .dataframe tbody tr th {\n",
       "        vertical-align: top;\n",
       "    }\n",
       "\n",
       "    .dataframe thead th {\n",
       "        text-align: right;\n",
       "    }\n",
       "</style>\n",
       "<table border=\"1\" class=\"dataframe\">\n",
       "  <thead>\n",
       "    <tr style=\"text-align: right;\">\n",
       "      <th></th>\n",
       "      <th>RowNumber</th>\n",
       "      <th>CustomerId</th>\n",
       "      <th>Surname</th>\n",
       "      <th>CreditScore</th>\n",
       "      <th>Geography</th>\n",
       "      <th>Gender</th>\n",
       "      <th>Age</th>\n",
       "      <th>Tenure</th>\n",
       "      <th>Balance</th>\n",
       "      <th>NumOfProducts</th>\n",
       "      <th>HasCrCard</th>\n",
       "      <th>IsActiveMember</th>\n",
       "      <th>EstimatedSalary</th>\n",
       "      <th>Exited</th>\n",
       "    </tr>\n",
       "  </thead>\n",
       "  <tbody>\n",
       "    <tr>\n",
       "      <th>0</th>\n",
       "      <td>1</td>\n",
       "      <td>15634602</td>\n",
       "      <td>Hargrave</td>\n",
       "      <td>619</td>\n",
       "      <td>France</td>\n",
       "      <td>Female</td>\n",
       "      <td>42</td>\n",
       "      <td>2</td>\n",
       "      <td>0.00</td>\n",
       "      <td>1</td>\n",
       "      <td>1</td>\n",
       "      <td>1</td>\n",
       "      <td>101348.88</td>\n",
       "      <td>1</td>\n",
       "    </tr>\n",
       "    <tr>\n",
       "      <th>1</th>\n",
       "      <td>2</td>\n",
       "      <td>15647311</td>\n",
       "      <td>Hill</td>\n",
       "      <td>608</td>\n",
       "      <td>Spain</td>\n",
       "      <td>Female</td>\n",
       "      <td>41</td>\n",
       "      <td>1</td>\n",
       "      <td>83807.86</td>\n",
       "      <td>1</td>\n",
       "      <td>0</td>\n",
       "      <td>1</td>\n",
       "      <td>112542.58</td>\n",
       "      <td>0</td>\n",
       "    </tr>\n",
       "    <tr>\n",
       "      <th>2</th>\n",
       "      <td>3</td>\n",
       "      <td>15619304</td>\n",
       "      <td>Onio</td>\n",
       "      <td>502</td>\n",
       "      <td>France</td>\n",
       "      <td>Female</td>\n",
       "      <td>42</td>\n",
       "      <td>8</td>\n",
       "      <td>159660.80</td>\n",
       "      <td>3</td>\n",
       "      <td>1</td>\n",
       "      <td>0</td>\n",
       "      <td>113931.57</td>\n",
       "      <td>1</td>\n",
       "    </tr>\n",
       "    <tr>\n",
       "      <th>3</th>\n",
       "      <td>4</td>\n",
       "      <td>15701354</td>\n",
       "      <td>Boni</td>\n",
       "      <td>699</td>\n",
       "      <td>France</td>\n",
       "      <td>Female</td>\n",
       "      <td>39</td>\n",
       "      <td>1</td>\n",
       "      <td>0.00</td>\n",
       "      <td>2</td>\n",
       "      <td>0</td>\n",
       "      <td>0</td>\n",
       "      <td>93826.63</td>\n",
       "      <td>0</td>\n",
       "    </tr>\n",
       "    <tr>\n",
       "      <th>4</th>\n",
       "      <td>5</td>\n",
       "      <td>15737888</td>\n",
       "      <td>Mitchell</td>\n",
       "      <td>850</td>\n",
       "      <td>Spain</td>\n",
       "      <td>Female</td>\n",
       "      <td>43</td>\n",
       "      <td>2</td>\n",
       "      <td>125510.82</td>\n",
       "      <td>1</td>\n",
       "      <td>1</td>\n",
       "      <td>1</td>\n",
       "      <td>79084.10</td>\n",
       "      <td>0</td>\n",
       "    </tr>\n",
       "  </tbody>\n",
       "</table>\n",
       "</div>"
      ],
      "text/plain": [
       "   RowNumber  CustomerId   Surname  CreditScore Geography  Gender  Age  \\\n",
       "0          1    15634602  Hargrave          619    France  Female   42   \n",
       "1          2    15647311      Hill          608     Spain  Female   41   \n",
       "2          3    15619304      Onio          502    France  Female   42   \n",
       "3          4    15701354      Boni          699    France  Female   39   \n",
       "4          5    15737888  Mitchell          850     Spain  Female   43   \n",
       "\n",
       "   Tenure    Balance  NumOfProducts  HasCrCard  IsActiveMember  \\\n",
       "0       2       0.00              1          1               1   \n",
       "1       1   83807.86              1          0               1   \n",
       "2       8  159660.80              3          1               0   \n",
       "3       1       0.00              2          0               0   \n",
       "4       2  125510.82              1          1               1   \n",
       "\n",
       "   EstimatedSalary  Exited  \n",
       "0        101348.88       1  \n",
       "1        112542.58       0  \n",
       "2        113931.57       1  \n",
       "3         93826.63       0  \n",
       "4         79084.10       0  "
      ]
     },
     "execution_count": 31,
     "metadata": {},
     "output_type": "execute_result"
    }
   ],
   "source": [
    "dataset=pd.read_csv(\"Churn_Modelling.csv\")\n",
    "dataset.head()"
   ]
  },
  {
   "cell_type": "code",
   "execution_count": 32,
   "metadata": {},
   "outputs": [],
   "source": [
    "X=dataset.iloc[:,3:13] \n",
    "y=dataset.iloc[:,13]"
   ]
  },
  {
   "cell_type": "code",
   "execution_count": 33,
   "metadata": {},
   "outputs": [
    {
     "data": {
      "text/html": [
       "<div>\n",
       "<style scoped>\n",
       "    .dataframe tbody tr th:only-of-type {\n",
       "        vertical-align: middle;\n",
       "    }\n",
       "\n",
       "    .dataframe tbody tr th {\n",
       "        vertical-align: top;\n",
       "    }\n",
       "\n",
       "    .dataframe thead th {\n",
       "        text-align: right;\n",
       "    }\n",
       "</style>\n",
       "<table border=\"1\" class=\"dataframe\">\n",
       "  <thead>\n",
       "    <tr style=\"text-align: right;\">\n",
       "      <th></th>\n",
       "      <th>CreditScore</th>\n",
       "      <th>Geography</th>\n",
       "      <th>Gender</th>\n",
       "      <th>Age</th>\n",
       "      <th>Tenure</th>\n",
       "      <th>Balance</th>\n",
       "      <th>NumOfProducts</th>\n",
       "      <th>HasCrCard</th>\n",
       "      <th>IsActiveMember</th>\n",
       "      <th>EstimatedSalary</th>\n",
       "    </tr>\n",
       "  </thead>\n",
       "  <tbody>\n",
       "    <tr>\n",
       "      <th>0</th>\n",
       "      <td>619</td>\n",
       "      <td>France</td>\n",
       "      <td>Female</td>\n",
       "      <td>42</td>\n",
       "      <td>2</td>\n",
       "      <td>0.00</td>\n",
       "      <td>1</td>\n",
       "      <td>1</td>\n",
       "      <td>1</td>\n",
       "      <td>101348.88</td>\n",
       "    </tr>\n",
       "    <tr>\n",
       "      <th>1</th>\n",
       "      <td>608</td>\n",
       "      <td>Spain</td>\n",
       "      <td>Female</td>\n",
       "      <td>41</td>\n",
       "      <td>1</td>\n",
       "      <td>83807.86</td>\n",
       "      <td>1</td>\n",
       "      <td>0</td>\n",
       "      <td>1</td>\n",
       "      <td>112542.58</td>\n",
       "    </tr>\n",
       "    <tr>\n",
       "      <th>2</th>\n",
       "      <td>502</td>\n",
       "      <td>France</td>\n",
       "      <td>Female</td>\n",
       "      <td>42</td>\n",
       "      <td>8</td>\n",
       "      <td>159660.80</td>\n",
       "      <td>3</td>\n",
       "      <td>1</td>\n",
       "      <td>0</td>\n",
       "      <td>113931.57</td>\n",
       "    </tr>\n",
       "    <tr>\n",
       "      <th>3</th>\n",
       "      <td>699</td>\n",
       "      <td>France</td>\n",
       "      <td>Female</td>\n",
       "      <td>39</td>\n",
       "      <td>1</td>\n",
       "      <td>0.00</td>\n",
       "      <td>2</td>\n",
       "      <td>0</td>\n",
       "      <td>0</td>\n",
       "      <td>93826.63</td>\n",
       "    </tr>\n",
       "    <tr>\n",
       "      <th>4</th>\n",
       "      <td>850</td>\n",
       "      <td>Spain</td>\n",
       "      <td>Female</td>\n",
       "      <td>43</td>\n",
       "      <td>2</td>\n",
       "      <td>125510.82</td>\n",
       "      <td>1</td>\n",
       "      <td>1</td>\n",
       "      <td>1</td>\n",
       "      <td>79084.10</td>\n",
       "    </tr>\n",
       "  </tbody>\n",
       "</table>\n",
       "</div>"
      ],
      "text/plain": [
       "   CreditScore Geography  Gender  Age  Tenure    Balance  NumOfProducts  \\\n",
       "0          619    France  Female   42       2       0.00              1   \n",
       "1          608     Spain  Female   41       1   83807.86              1   \n",
       "2          502    France  Female   42       8  159660.80              3   \n",
       "3          699    France  Female   39       1       0.00              2   \n",
       "4          850     Spain  Female   43       2  125510.82              1   \n",
       "\n",
       "   HasCrCard  IsActiveMember  EstimatedSalary  \n",
       "0          1               1        101348.88  \n",
       "1          0               1        112542.58  \n",
       "2          1               0        113931.57  \n",
       "3          0               0         93826.63  \n",
       "4          1               1         79084.10  "
      ]
     },
     "execution_count": 33,
     "metadata": {},
     "output_type": "execute_result"
    }
   ],
   "source": [
    "X.head()"
   ]
  },
  {
   "cell_type": "code",
   "execution_count": 34,
   "metadata": {},
   "outputs": [
    {
     "data": {
      "text/plain": [
       "0    1\n",
       "1    0\n",
       "2    1\n",
       "3    0\n",
       "4    0\n",
       "Name: Exited, dtype: int64"
      ]
     },
     "execution_count": 34,
     "metadata": {},
     "output_type": "execute_result"
    }
   ],
   "source": [
    "y.head()"
   ]
  },
  {
   "cell_type": "code",
   "execution_count": 35,
   "metadata": {},
   "outputs": [],
   "source": [
    "geography=pd.get_dummies(X['Geography'],drop_first=True) \n",
    "gender=pd.get_dummies(X['Gender'],drop_first=True)"
   ]
  },
  {
   "cell_type": "code",
   "execution_count": 36,
   "metadata": {},
   "outputs": [],
   "source": [
    "X=X.drop(['Geography','Gender'],axis=1)"
   ]
  },
  {
   "cell_type": "code",
   "execution_count": 37,
   "metadata": {},
   "outputs": [
    {
     "data": {
      "text/html": [
       "<div>\n",
       "<style scoped>\n",
       "    .dataframe tbody tr th:only-of-type {\n",
       "        vertical-align: middle;\n",
       "    }\n",
       "\n",
       "    .dataframe tbody tr th {\n",
       "        vertical-align: top;\n",
       "    }\n",
       "\n",
       "    .dataframe thead th {\n",
       "        text-align: right;\n",
       "    }\n",
       "</style>\n",
       "<table border=\"1\" class=\"dataframe\">\n",
       "  <thead>\n",
       "    <tr style=\"text-align: right;\">\n",
       "      <th></th>\n",
       "      <th>CreditScore</th>\n",
       "      <th>Age</th>\n",
       "      <th>Tenure</th>\n",
       "      <th>Balance</th>\n",
       "      <th>NumOfProducts</th>\n",
       "      <th>HasCrCard</th>\n",
       "      <th>IsActiveMember</th>\n",
       "      <th>EstimatedSalary</th>\n",
       "    </tr>\n",
       "  </thead>\n",
       "  <tbody>\n",
       "    <tr>\n",
       "      <th>0</th>\n",
       "      <td>619</td>\n",
       "      <td>42</td>\n",
       "      <td>2</td>\n",
       "      <td>0.00</td>\n",
       "      <td>1</td>\n",
       "      <td>1</td>\n",
       "      <td>1</td>\n",
       "      <td>101348.88</td>\n",
       "    </tr>\n",
       "    <tr>\n",
       "      <th>1</th>\n",
       "      <td>608</td>\n",
       "      <td>41</td>\n",
       "      <td>1</td>\n",
       "      <td>83807.86</td>\n",
       "      <td>1</td>\n",
       "      <td>0</td>\n",
       "      <td>1</td>\n",
       "      <td>112542.58</td>\n",
       "    </tr>\n",
       "    <tr>\n",
       "      <th>2</th>\n",
       "      <td>502</td>\n",
       "      <td>42</td>\n",
       "      <td>8</td>\n",
       "      <td>159660.80</td>\n",
       "      <td>3</td>\n",
       "      <td>1</td>\n",
       "      <td>0</td>\n",
       "      <td>113931.57</td>\n",
       "    </tr>\n",
       "    <tr>\n",
       "      <th>3</th>\n",
       "      <td>699</td>\n",
       "      <td>39</td>\n",
       "      <td>1</td>\n",
       "      <td>0.00</td>\n",
       "      <td>2</td>\n",
       "      <td>0</td>\n",
       "      <td>0</td>\n",
       "      <td>93826.63</td>\n",
       "    </tr>\n",
       "    <tr>\n",
       "      <th>4</th>\n",
       "      <td>850</td>\n",
       "      <td>43</td>\n",
       "      <td>2</td>\n",
       "      <td>125510.82</td>\n",
       "      <td>1</td>\n",
       "      <td>1</td>\n",
       "      <td>1</td>\n",
       "      <td>79084.10</td>\n",
       "    </tr>\n",
       "  </tbody>\n",
       "</table>\n",
       "</div>"
      ],
      "text/plain": [
       "   CreditScore  Age  Tenure    Balance  NumOfProducts  HasCrCard  \\\n",
       "0          619   42       2       0.00              1          1   \n",
       "1          608   41       1   83807.86              1          0   \n",
       "2          502   42       8  159660.80              3          1   \n",
       "3          699   39       1       0.00              2          0   \n",
       "4          850   43       2  125510.82              1          1   \n",
       "\n",
       "   IsActiveMember  EstimatedSalary  \n",
       "0               1        101348.88  \n",
       "1               1        112542.58  \n",
       "2               0        113931.57  \n",
       "3               0         93826.63  \n",
       "4               1         79084.10  "
      ]
     },
     "execution_count": 37,
     "metadata": {},
     "output_type": "execute_result"
    }
   ],
   "source": [
    "X.head()"
   ]
  },
  {
   "cell_type": "code",
   "execution_count": 38,
   "metadata": {},
   "outputs": [],
   "source": [
    "X=pd.concat([X,geography,gender],axis=1)"
   ]
  },
  {
   "cell_type": "code",
   "execution_count": 39,
   "metadata": {},
   "outputs": [],
   "source": [
    "#splitting the dataset in training set and test set\n",
    "from sklearn.model_selection import train_test_split\n",
    "X_train,X_test,y_train,y_test=train_test_split(X,y,test_size=0.2,random_state=0)"
   ]
  },
  {
   "cell_type": "code",
   "execution_count": 40,
   "metadata": {},
   "outputs": [],
   "source": [
    "#Feature scaling\n",
    "from sklearn.preprocessing import StandardScaler\n",
    "sc=StandardScaler()\n",
    "X_train=sc.fit_transform(X_train)\n",
    "X_test=sc.fit_transform(X_test)"
   ]
  },
  {
   "cell_type": "code",
   "execution_count": 41,
   "metadata": {},
   "outputs": [
    {
     "data": {
      "text/plain": [
       "array([[ 0.16958176, -0.46460796,  0.00666099, ..., -0.5698444 ,\n",
       "         1.74309049, -1.09168714],\n",
       "       [-2.30455945,  0.30102557, -1.37744033, ...,  1.75486502,\n",
       "        -0.57369368,  0.91601335],\n",
       "       [-1.19119591, -0.94312892, -1.031415  , ..., -0.5698444 ,\n",
       "        -0.57369368, -1.09168714],\n",
       "       ...,\n",
       "       [ 0.9015152 , -0.36890377,  0.00666099, ..., -0.5698444 ,\n",
       "        -0.57369368,  0.91601335],\n",
       "       [-0.62420521, -0.08179119,  1.39076231, ..., -0.5698444 ,\n",
       "         1.74309049, -1.09168714],\n",
       "       [-0.28401079,  0.87525072, -1.37744033, ...,  1.75486502,\n",
       "        -0.57369368, -1.09168714]])"
      ]
     },
     "execution_count": 41,
     "metadata": {},
     "output_type": "execute_result"
    }
   ],
   "source": [
    "X_train"
   ]
  },
  {
   "cell_type": "code",
   "execution_count": 42,
   "metadata": {},
   "outputs": [
    {
     "data": {
      "text/plain": [
       "(8000, 11)"
      ]
     },
     "execution_count": 42,
     "metadata": {},
     "output_type": "execute_result"
    }
   ],
   "source": [
    "X_train.shape"
   ]
  },
  {
   "cell_type": "code",
   "execution_count": 43,
   "metadata": {},
   "outputs": [],
   "source": [
    " #Creating  The ANN\n",
    "from tensorflow.keras.models import Sequential\n",
    "from tensorflow.keras.layers import Dense\n",
    "from tensorflow.keras.layers import LeakyReLU,PReLU,ELU,ReLU\n",
    "from tensorflow.keras.layers import Dropout\n",
    "##Dropout layer is used to manage overfitting in the ANN and can be used on any hidden layer"
   ]
  },
  {
   "cell_type": "code",
   "execution_count": 44,
   "metadata": {},
   "outputs": [],
   "source": [
    "#Lets Initialize ANN\n",
    "classifier=Sequential()\n"
   ]
  },
  {
   "cell_type": "code",
   "execution_count": 45,
   "metadata": {},
   "outputs": [],
   "source": [
    "#Adding the input layer\n",
    "classifier.add(Dense(units=11,activation='relu'))"
   ]
  },
  {
   "cell_type": "code",
   "execution_count": 46,
   "metadata": {},
   "outputs": [],
   "source": [
    "#Adding the first hidden layer\n",
    "classifier.add(Dense(units=7,activation='relu'))"
   ]
  },
  {
   "cell_type": "code",
   "execution_count": 47,
   "metadata": {},
   "outputs": [],
   "source": [
    "#Adding the first hidden layer\n",
    "classifier.add(Dense(units=6,activation='relu'))"
   ]
  },
  {
   "cell_type": "code",
   "execution_count": 48,
   "metadata": {},
   "outputs": [],
   "source": [
    "#Adding the output layer\n",
    "classifier.add(Dense(units=1,activation='sigmoid'))\n"
   ]
  },
  {
   "cell_type": "code",
   "execution_count": 59,
   "metadata": {},
   "outputs": [],
   "source": [
    "classifier.compile(optimizer=opt,loss='binary_crossentropy',metrics=['accuracy'])"
   ]
  },
  {
   "cell_type": "code",
   "execution_count": 60,
   "metadata": {},
   "outputs": [],
   "source": [
    "#customizing optimizers\n",
    "import tensorflow as tf\n",
    "opt=tensorflow.keras.optimizers.Adam(learning_rate=0.01)"
   ]
  },
  {
   "cell_type": "code",
   "execution_count": 61,
   "metadata": {},
   "outputs": [],
   "source": [
    "early_stopping=tf.keras.callbacks.EarlyStopping(\n",
    "    monitor=\"val_loss\",\n",
    "    min_delta=0.0001,\n",
    "    patience=20,\n",
    "    verbose=1,\n",
    "    mode=\"auto\",\n",
    "    baseline=None,\n",
    "    restore_best_weights=False,\n",
    "    \n",
    ")"
   ]
  },
  {
   "cell_type": "code",
   "execution_count": 62,
   "metadata": {},
   "outputs": [
    {
     "name": "stdout",
     "output_type": "stream",
     "text": [
      "Epoch 1/1000\n",
      "536/536 [==============================] - 4s 4ms/step - loss: 0.4374 - accuracy: 0.8143 - val_loss: 0.4278 - val_accuracy: 0.8251\n",
      "Epoch 2/1000\n",
      "536/536 [==============================] - 2s 4ms/step - loss: 0.4048 - accuracy: 0.8352 - val_loss: 0.4023 - val_accuracy: 0.8281\n",
      "Epoch 3/1000\n",
      "536/536 [==============================] - 2s 4ms/step - loss: 0.3763 - accuracy: 0.8462 - val_loss: 0.3742 - val_accuracy: 0.8387\n",
      "Epoch 4/1000\n",
      "536/536 [==============================] - 2s 4ms/step - loss: 0.3514 - accuracy: 0.8563 - val_loss: 0.3643 - val_accuracy: 0.8535\n",
      "Epoch 5/1000\n",
      "536/536 [==============================] - 2s 4ms/step - loss: 0.3493 - accuracy: 0.8530 - val_loss: 0.3625 - val_accuracy: 0.8538\n",
      "Epoch 6/1000\n",
      "536/536 [==============================] - 2s 4ms/step - loss: 0.3450 - accuracy: 0.8574 - val_loss: 0.3597 - val_accuracy: 0.8546\n",
      "Epoch 7/1000\n",
      "536/536 [==============================] - 3s 5ms/step - loss: 0.3412 - accuracy: 0.8602 - val_loss: 0.3626 - val_accuracy: 0.8516\n",
      "Epoch 8/1000\n",
      "536/536 [==============================] - 3s 5ms/step - loss: 0.3391 - accuracy: 0.8597 - val_loss: 0.3626 - val_accuracy: 0.8508\n",
      "Epoch 9/1000\n",
      "536/536 [==============================] - 3s 6ms/step - loss: 0.3383 - accuracy: 0.8586 - val_loss: 0.3626 - val_accuracy: 0.8504\n",
      "Epoch 10/1000\n",
      "536/536 [==============================] - 3s 5ms/step - loss: 0.3400 - accuracy: 0.8554 - val_loss: 0.3566 - val_accuracy: 0.8542\n",
      "Epoch 11/1000\n",
      "536/536 [==============================] - 3s 5ms/step - loss: 0.3372 - accuracy: 0.8610 - val_loss: 0.3568 - val_accuracy: 0.8561\n",
      "Epoch 12/1000\n",
      "536/536 [==============================] - 3s 6ms/step - loss: 0.3391 - accuracy: 0.8587 - val_loss: 0.3618 - val_accuracy: 0.8531\n",
      "Epoch 13/1000\n",
      "536/536 [==============================] - 3s 5ms/step - loss: 0.3346 - accuracy: 0.8628 - val_loss: 0.3568 - val_accuracy: 0.8591\n",
      "Epoch 14/1000\n",
      "536/536 [==============================] - 3s 5ms/step - loss: 0.3355 - accuracy: 0.8623 - val_loss: 0.3581 - val_accuracy: 0.8531\n",
      "Epoch 15/1000\n",
      "536/536 [==============================] - 2s 4ms/step - loss: 0.3324 - accuracy: 0.8642 - val_loss: 0.3554 - val_accuracy: 0.8523\n",
      "Epoch 16/1000\n",
      "536/536 [==============================] - 2s 4ms/step - loss: 0.3332 - accuracy: 0.8642 - val_loss: 0.3573 - val_accuracy: 0.8542\n",
      "Epoch 17/1000\n",
      "536/536 [==============================] - 2s 4ms/step - loss: 0.3332 - accuracy: 0.8642 - val_loss: 0.3643 - val_accuracy: 0.8565\n",
      "Epoch 18/1000\n",
      "536/536 [==============================] - 2s 4ms/step - loss: 0.3325 - accuracy: 0.8610 - val_loss: 0.3626 - val_accuracy: 0.8519\n",
      "Epoch 19/1000\n",
      "536/536 [==============================] - 2s 4ms/step - loss: 0.3325 - accuracy: 0.8634 - val_loss: 0.3615 - val_accuracy: 0.8527\n",
      "Epoch 20/1000\n",
      "536/536 [==============================] - 2s 4ms/step - loss: 0.3304 - accuracy: 0.8628 - val_loss: 0.3744 - val_accuracy: 0.8497\n",
      "Epoch 21/1000\n",
      "536/536 [==============================] - 2s 3ms/step - loss: 0.3294 - accuracy: 0.8623 - val_loss: 0.3800 - val_accuracy: 0.8501\n",
      "Epoch 22/1000\n",
      "536/536 [==============================] - 2s 4ms/step - loss: 0.3308 - accuracy: 0.8593 - val_loss: 0.3743 - val_accuracy: 0.8565\n",
      "Epoch 23/1000\n",
      "536/536 [==============================] - 2s 4ms/step - loss: 0.3281 - accuracy: 0.8642 - val_loss: 0.3640 - val_accuracy: 0.8561\n",
      "Epoch 24/1000\n",
      "536/536 [==============================] - 2s 3ms/step - loss: 0.3280 - accuracy: 0.8642 - val_loss: 0.3710 - val_accuracy: 0.8550\n",
      "Epoch 25/1000\n",
      "536/536 [==============================] - 2s 4ms/step - loss: 0.3291 - accuracy: 0.8649 - val_loss: 0.3592 - val_accuracy: 0.8561\n",
      "Epoch 26/1000\n",
      "536/536 [==============================] - 2s 4ms/step - loss: 0.3279 - accuracy: 0.8640 - val_loss: 0.3675 - val_accuracy: 0.8531\n",
      "Epoch 27/1000\n",
      "536/536 [==============================] - 2s 4ms/step - loss: 0.3275 - accuracy: 0.8647 - val_loss: 0.3608 - val_accuracy: 0.8550\n",
      "Epoch 28/1000\n",
      "536/536 [==============================] - 2s 4ms/step - loss: 0.3250 - accuracy: 0.8621 - val_loss: 0.3666 - val_accuracy: 0.8508\n",
      "Epoch 29/1000\n",
      "536/536 [==============================] - 2s 3ms/step - loss: 0.3246 - accuracy: 0.8619 - val_loss: 0.3682 - val_accuracy: 0.8561\n",
      "Epoch 30/1000\n",
      "536/536 [==============================] - 2s 4ms/step - loss: 0.3223 - accuracy: 0.8656 - val_loss: 0.3697 - val_accuracy: 0.8538\n",
      "Epoch 31/1000\n",
      "536/536 [==============================] - 2s 3ms/step - loss: 0.3232 - accuracy: 0.8642 - val_loss: 0.3575 - val_accuracy: 0.8538\n",
      "Epoch 32/1000\n",
      "536/536 [==============================] - 2s 3ms/step - loss: 0.3235 - accuracy: 0.8628 - val_loss: 0.3689 - val_accuracy: 0.8512\n",
      "Epoch 33/1000\n",
      "536/536 [==============================] - 2s 3ms/step - loss: 0.3232 - accuracy: 0.8628 - val_loss: 0.3605 - val_accuracy: 0.8523\n",
      "Epoch 34/1000\n",
      "536/536 [==============================] - 2s 3ms/step - loss: 0.3235 - accuracy: 0.8632 - val_loss: 0.3636 - val_accuracy: 0.8519\n",
      "Epoch 35/1000\n",
      "536/536 [==============================] - 2s 3ms/step - loss: 0.3255 - accuracy: 0.8634 - val_loss: 0.3724 - val_accuracy: 0.8576\n",
      "Epoch 35: early stopping\n"
     ]
    }
   ],
   "source": [
    "model_history=classifier.fit(X_train,y_train,validation_split=0.33,batch_size=10,epochs=1000,callbacks=early_stopping)"
   ]
  },
  {
   "cell_type": "code",
   "execution_count": 64,
   "metadata": {},
   "outputs": [
    {
     "data": {
      "text/plain": [
       "dict_keys(['loss', 'accuracy', 'val_loss', 'val_accuracy'])"
      ]
     },
     "execution_count": 64,
     "metadata": {},
     "output_type": "execute_result"
    }
   ],
   "source": [
    "model_history.history.keys()"
   ]
  },
  {
   "cell_type": "code",
   "execution_count": 66,
   "metadata": {},
   "outputs": [
    {
     "data": {
      "image/png": "[encoded data removed]",
      "text/plain": [
       "<Figure size 640x480 with 1 Axes>"
      ]
     },
     "metadata": {},
     "output_type": "display_data"
    }
   ],
   "source": [
    " #summarize history for accuracy\n",
    " plt.plot(model_history.history['accuracy'])\n",
    " plt.plot(model_history.history['val_accuracy'])\n",
    " plt.title('Model Accuracy')\n",
    " plt.xlabel('epoch')\n",
    " plt.ylabel('accuracy')\n",
    " plt.legend(['train','test'],loc='upper left')\n",
    " plt.show()"
   ]
  },
  {
   "cell_type": "code",
   "execution_count": 67,
   "metadata": {},
   "outputs": [
    {
     "name": "stdout",
     "output_type": "stream",
     "text": [
      "63/63 [==============================] - 0s 2ms/step\n"
     ]
    }
   ],
   "source": [
    "y_pred=classifier.predict(X_test)\n",
    "y_pred=(y_pred>=0.5)"
   ]
  },
  {
   "cell_type": "code",
   "execution_count": 68,
   "metadata": {},
   "outputs": [
    {
     "data": {
      "text/plain": [
       "array([[1533,   62],\n",
       "       [ 221,  184]], dtype=int64)"
      ]
     },
     "execution_count": 68,
     "metadata": {},
     "output_type": "execute_result"
    }
   ],
   "source": [
    "from sklearn.metrics import confusion_matrix\n",
    "cm=confusion_matrix(y_test,y_pred)\n",
    "cm"
   ]
  },
  {
   "cell_type": "code",
   "execution_count": 69,
   "metadata": {},
   "outputs": [],
   "source": [
    "##Calculate the accuracy\n",
    "from sklearn.metrics import accuracy_score\n",
    "score=accuracy_score(y_pred,y_test)"
   ]
  },
  {
   "cell_type": "code",
   "execution_count": 70,
   "metadata": {},
   "outputs": [
    {
     "data": {
      "text/plain": [
       "0.8585"
      ]
     },
     "execution_count": 70,
     "metadata": {},
     "output_type": "execute_result"
    }
   ],
   "source": [
    "score"
   ]
  },
  {
   "cell_type": "code",
   "execution_count": 72,
   "metadata": {},
   "outputs": [
    {
     "data": {
      "text/plain": [
       "[array([[ 1.5492828 ,  0.3771651 , -0.27982637, -0.49396574, -0.17392844,\n",
       "         -0.29518482, -1.6550318 ,  0.24659611,  0.86686283, -0.05474209,\n",
       "         -0.07344124],\n",
       "        [-2.1289167 , -1.8885047 ,  2.4421694 , -2.7592406 ,  1.6124095 ,\n",
       "          2.5058362 , -1.2181025 , -0.9504081 ,  1.5108668 , -1.0128319 ,\n",
       "          0.20552714],\n",
       "        [-0.07208375,  0.10690834,  0.26862136,  0.9463535 , -0.42281136,\n",
       "          0.0905164 ,  0.85998005,  1.1695939 , -0.04332466,  0.03566009,\n",
       "          0.82920974],\n",
       "        [-0.13372403, -0.33486208, -0.06748189,  0.18703425,  2.2948666 ,\n",
       "         -2.1945014 , -0.3052563 , -2.7184074 , -1.097163  , -0.40242735,\n",
       "          0.31059688],\n",
       "        [-0.8043746 , -0.3183788 , -0.2285686 ,  0.09153291,  1.8013953 ,\n",
       "         -3.0215042 ,  0.07128482, -0.11604176,  0.5543027 , -4.691235  ,\n",
       "          3.7206533 ],\n",
       "        [ 1.4971988 , -0.5213919 ,  0.0711607 ,  0.34096968,  0.08677588,\n",
       "         -0.25361922, -0.7883197 , -1.0055255 , -0.10958786, -0.03807896,\n",
       "          0.14389458],\n",
       "        [ 1.4267101 , -0.087778  ,  2.8671653 , -0.22217177, -0.2551268 ,\n",
       "          0.15824269,  2.6172183 ,  0.20839274,  0.8609551 ,  0.60702753,\n",
       "          0.32755485],\n",
       "        [ 1.8895017 , -0.2143438 ,  0.40180698,  0.13116911,  0.38547978,\n",
       "         -0.11635263, -1.3018051 , -0.9131347 ,  0.52746135,  0.6960593 ,\n",
       "          0.13282767],\n",
       "        [-0.1448235 , -2.2020862 , -0.03445483, -0.6060505 , -2.4732845 ,\n",
       "          0.8615578 ,  0.58849186,  1.1412754 , -1.4833201 ,  0.491705  ,\n",
       "          0.26668176],\n",
       "        [-0.23447628, -1.6187552 , -0.01059551, -0.26586497, -0.37472892,\n",
       "         -0.4841935 ,  0.97690755, -0.30401278,  1.0085301 ,  0.34397307,\n",
       "          0.5526183 ],\n",
       "        [ 0.35813773,  1.5500871 ,  0.9600915 ,  0.30808517,  0.12661509,\n",
       "          0.07171007,  0.5707864 ,  1.8870867 ,  0.81693596,  0.22607723,\n",
       "          0.21629994]], dtype=float32),\n",
       " array([ 0.33384684,  1.2635614 , -2.5878918 ,  3.189042  , -1.9965925 ,\n",
       "        -0.32279623, -1.0174108 , -2.8362033 ,  0.02666673,  0.63800323,\n",
       "        -2.562582  ], dtype=float32),\n",
       " array([[ 0.06526025,  0.5409638 , -0.5681253 , -1.8060333 , -4.199688  ,\n",
       "         -0.5109353 ,  0.2182417 ],\n",
       "        [-0.11776274, -0.6659642 , -0.1664133 , -1.0789702 , -0.0994363 ,\n",
       "         -1.2603585 ,  0.8875124 ],\n",
       "        [-0.5956644 ,  1.4736531 , -0.17425264, -1.9551198 ,  0.83006334,\n",
       "         -3.3623452 ,  0.03472663],\n",
       "        [-0.06821273,  0.5714423 , -1.1570019 , -0.7307757 , -3.721001  ,\n",
       "         -3.0091875 , -0.21013239],\n",
       "        [-0.56050116,  0.9507082 , -0.8402807 ,  0.91303253,  1.2348975 ,\n",
       "          1.3838546 , -2.1337016 ],\n",
       "        [-0.18449287,  0.01879454, -0.24265003,  1.1124814 , -2.7864625 ,\n",
       "          0.6731468 , -2.1707518 ],\n",
       "        [-0.6002528 ,  0.17268637, -0.20857748, -0.59791774,  0.74787533,\n",
       "         -2.6079679 ,  0.76660675],\n",
       "        [-0.16601998,  2.383876  , -0.43047494, -1.2734574 , -0.8223253 ,\n",
       "          0.04863462,  0.26784134],\n",
       "        [-0.6152789 ,  0.5351527 , -0.11264139, -0.4449843 ,  1.0092796 ,\n",
       "          0.85033906,  0.9828161 ],\n",
       "        [-0.1218835 , -3.8015468 , -0.17773613,  0.48716843, -0.7332738 ,\n",
       "         -0.35406548, -0.08871876],\n",
       "        [-0.08517116, -1.2357588 , -0.4481921 ,  2.5909364 , -2.1635132 ,\n",
       "          0.73430043, -0.43298492]], dtype=float32),\n",
       " array([-0.45108074,  1.0746284 , -0.42727554,  0.21340582, -0.54662794,\n",
       "         0.44603258,  3.0978632 ], dtype=float32),\n",
       " array([[-0.7653343 , -0.26902694, -0.6047057 , -0.0690605 , -0.05430237,\n",
       "         -0.3147972 ],\n",
       "        [-1.3029113 , -0.33766118, -0.51929   ,  0.62511605,  0.01385983,\n",
       "         -0.6314788 ],\n",
       "        [-0.20711626, -0.4819556 ,  0.44569206, -0.38915548,  0.17543277,\n",
       "         -0.6142195 ],\n",
       "        [ 0.5600503 , -0.6956212 , -0.16197202, -0.9391604 , -0.25373355,\n",
       "         -0.5072714 ],\n",
       "        [ 0.4798722 , -0.16433412,  0.3833881 , -1.5759511 , -0.59780705,\n",
       "         -0.66743815],\n",
       "        [ 1.2173233 , -0.15312442, -0.90143585,  0.26457694, -0.66016096,\n",
       "         -0.23662779],\n",
       "        [-0.88761914, -0.5994958 , -0.92499065,  0.44494846,  0.00282457,\n",
       "         -0.15888175]], dtype=float32),\n",
       " array([ 0.29647398, -1.1296744 , -1.9722971 , -0.11398079, -0.5177111 ,\n",
       "        -0.4147312 ], dtype=float32),\n",
       " array([[ 0.44955006],\n",
       "        [-0.3061396 ],\n",
       "        [ 0.0743193 ],\n",
       "        [-0.32380283],\n",
       "        [ 0.16586447],\n",
       "        [ 0.18215634]], dtype=float32),\n",
       " array([-0.684544], dtype=float32)]"
      ]
     },
     "execution_count": 72,
     "metadata": {},
     "output_type": "execute_result"
    }
   ],
   "source": [
    "#get the weights \n",
    "classifier.get_weights()"
   ]
  },
  {
   "cell_type": "code",
   "execution_count": null,
   "metadata": {},
   "outputs": [],
   "source": []
  }
 ],
 "metadata": {
  "kernelspec": {
   "display_name": "py3-TF2.0",
   "language": "python",
   "name": "python3"
  },
  "language_info": {
   "codemirror_mode": {
    "name": "ipython",
    "version": 3
   },
   "file_extension": ".py",
   "mimetype": "text/x-python",
   "name": "python",
   "nbconvert_exporter": "python",
   "pygments_lexer": "ipython3",
   "version": "3.11.1"
  },
  "orig_nbformat": 4
 },
 "nbformat": 4,
 "nbformat_minor": 2
}
